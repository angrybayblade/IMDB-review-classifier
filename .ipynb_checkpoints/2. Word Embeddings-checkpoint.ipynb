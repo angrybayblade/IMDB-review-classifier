{
 "cells": [
  {
   "cell_type": "code",
   "execution_count": 102,
   "metadata": {},
   "outputs": [],
   "source": [
    "import re\n",
    "import pandas as pd\n",
    "import numpy as np\n",
    "import tensorflow as tf\n",
    "\n",
    "from tensorflow import keras\n",
    "from tensorflow.keras import Model\n",
    "from tensorflow.keras.layers import *\n",
    "\n",
    "import matplotlib.pyplot as plt\n",
    "import seaborn as sns\n",
    "\n",
    "from sklearn.feature_extraction.text import CountVectorizer\n",
    "from sklearn.model_selection import train_test_split,KFold\n",
    "\n",
    "from gensim.models import Word2Vec\n",
    "from tqdm.cli import tqdm\n",
    "from concurrent.futures import ThreadPoolExecutor\n",
    "\n",
    "%matplotlib inline"
   ]
  },
  {
   "cell_type": "code",
   "execution_count": 2,
   "metadata": {},
   "outputs": [
    {
     "data": {
      "text/html": [
       "<div>\n",
       "<style scoped>\n",
       "    .dataframe tbody tr th:only-of-type {\n",
       "        vertical-align: middle;\n",
       "    }\n",
       "\n",
       "    .dataframe tbody tr th {\n",
       "        vertical-align: top;\n",
       "    }\n",
       "\n",
       "    .dataframe thead th {\n",
       "        text-align: right;\n",
       "    }\n",
       "</style>\n",
       "<table border=\"1\" class=\"dataframe\">\n",
       "  <thead>\n",
       "    <tr style=\"text-align: right;\">\n",
       "      <th></th>\n",
       "      <th>review</th>\n",
       "      <th>sentiment</th>\n",
       "    </tr>\n",
       "  </thead>\n",
       "  <tbody>\n",
       "    <tr>\n",
       "      <th>0</th>\n",
       "      <td>One of the other reviewers has mentioned that ...</td>\n",
       "      <td>positive</td>\n",
       "    </tr>\n",
       "    <tr>\n",
       "      <th>1</th>\n",
       "      <td>A wonderful little production. &lt;br /&gt;&lt;br /&gt;The...</td>\n",
       "      <td>positive</td>\n",
       "    </tr>\n",
       "    <tr>\n",
       "      <th>2</th>\n",
       "      <td>I thought this was a wonderful way to spend ti...</td>\n",
       "      <td>positive</td>\n",
       "    </tr>\n",
       "    <tr>\n",
       "      <th>3</th>\n",
       "      <td>Basically there's a family where a little boy ...</td>\n",
       "      <td>negative</td>\n",
       "    </tr>\n",
       "    <tr>\n",
       "      <th>4</th>\n",
       "      <td>Petter Mattei's \"Love in the Time of Money\" is...</td>\n",
       "      <td>positive</td>\n",
       "    </tr>\n",
       "  </tbody>\n",
       "</table>\n",
       "</div>"
      ],
      "text/plain": [
       "                                              review sentiment\n",
       "0  One of the other reviewers has mentioned that ...  positive\n",
       "1  A wonderful little production. <br /><br />The...  positive\n",
       "2  I thought this was a wonderful way to spend ti...  positive\n",
       "3  Basically there's a family where a little boy ...  negative\n",
       "4  Petter Mattei's \"Love in the Time of Money\" is...  positive"
      ]
     },
     "execution_count": 2,
     "metadata": {},
     "output_type": "execute_result"
    }
   ],
   "source": [
    "df = pd.read_csv(\"./IMDB Dataset.csv\")\n",
    "df.head()"
   ]
  },
  {
   "cell_type": "code",
   "execution_count": 3,
   "metadata": {},
   "outputs": [],
   "source": [
    "df['sentiment'] = df['sentiment'].apply(lambda x:int(x == 'positive')).values"
   ]
  },
  {
   "cell_type": "code",
   "execution_count": 4,
   "metadata": {},
   "outputs": [
    {
     "data": {
      "text/html": [
       "<div>\n",
       "<style scoped>\n",
       "    .dataframe tbody tr th:only-of-type {\n",
       "        vertical-align: middle;\n",
       "    }\n",
       "\n",
       "    .dataframe tbody tr th {\n",
       "        vertical-align: top;\n",
       "    }\n",
       "\n",
       "    .dataframe thead th {\n",
       "        text-align: right;\n",
       "    }\n",
       "</style>\n",
       "<table border=\"1\" class=\"dataframe\">\n",
       "  <thead>\n",
       "    <tr style=\"text-align: right;\">\n",
       "      <th></th>\n",
       "      <th>review</th>\n",
       "      <th>sentiment</th>\n",
       "    </tr>\n",
       "  </thead>\n",
       "  <tbody>\n",
       "    <tr>\n",
       "      <th>0</th>\n",
       "      <td>one of the other reviewers has mentioned that ...</td>\n",
       "      <td>1</td>\n",
       "    </tr>\n",
       "    <tr>\n",
       "      <th>1</th>\n",
       "      <td>a wonderful little production the filming tech...</td>\n",
       "      <td>1</td>\n",
       "    </tr>\n",
       "    <tr>\n",
       "      <th>2</th>\n",
       "      <td>i thought this was a wonderful way to spend ti...</td>\n",
       "      <td>1</td>\n",
       "    </tr>\n",
       "    <tr>\n",
       "      <th>3</th>\n",
       "      <td>basically theres a family where a little boy j...</td>\n",
       "      <td>0</td>\n",
       "    </tr>\n",
       "    <tr>\n",
       "      <th>4</th>\n",
       "      <td>petter matteis love in the time of money is a ...</td>\n",
       "      <td>1</td>\n",
       "    </tr>\n",
       "  </tbody>\n",
       "</table>\n",
       "</div>"
      ],
      "text/plain": [
       "                                              review  sentiment\n",
       "0  one of the other reviewers has mentioned that ...          1\n",
       "1  a wonderful little production the filming tech...          1\n",
       "2  i thought this was a wonderful way to spend ti...          1\n",
       "3  basically theres a family where a little boy j...          0\n",
       "4  petter matteis love in the time of money is a ...          1"
      ]
     },
     "execution_count": 4,
     "metadata": {},
     "output_type": "execute_result"
    }
   ],
   "source": [
    "SYMBOL_FILTER = re.compile(\"[!,.\\\"\\':?()]\")\n",
    "SPECIAL_CHAR_FILTER = re.compile(\"(<br\\s*/><br\\s*/>)|(\\-)|(\\/)\")\n",
    "\n",
    "df['review'] = df.review.apply(lambda x:SPECIAL_CHAR_FILTER.sub(\"\",SYMBOL_FILTER.sub(\"\",x)).lower())\n",
    "df.head()"
   ]
  },
  {
   "cell_type": "code",
   "execution_count": 5,
   "metadata": {},
   "outputs": [],
   "source": [
    "sentences = [i.split(\" \") for i in df.review]"
   ]
  },
  {
   "cell_type": "code",
   "execution_count": 20,
   "metadata": {},
   "outputs": [
    {
     "name": "stderr",
     "output_type": "stream",
     "text": [
      "\n",
      "  0%|          | 0/50000 [00:00<?, ?it/s]\u001b[A\n",
      " 45%|████▍     | 22367/50000 [00:00<00:00, 223613.70it/s]\u001b[A\n",
      "100%|██████████| 50000/50000 [00:00<00:00, 242443.92it/s]\u001b[A\n"
     ]
    }
   ],
   "source": [
    "vocab = []\n",
    "for sent in tqdm(sentences):\n",
    "    vocab += sent\n",
    "    \n",
    "vocab = list(set(vocab))"
   ]
  },
  {
   "cell_type": "code",
   "execution_count": 24,
   "metadata": {},
   "outputs": [],
   "source": [
    "w2v = Word2Vec(sentences,size=92).wv"
   ]
  },
  {
   "cell_type": "code",
   "execution_count": 91,
   "metadata": {},
   "outputs": [],
   "source": [
    "dummy = np.zeros((92,))\n",
    "max_len = max([len(s) for s in sentences])\n",
    "\n",
    "def vector(w):\n",
    "    try:\n",
    "        return w2v[w]\n",
    "    except:\n",
    "        return dummy\n",
    "\n",
    "def pad(sent):\n",
    "    return np.concatenate((\n",
    "        np.array([ vector(w) for w in  sent]),\n",
    "        np.zeros((max_len - len(sent),92))\n",
    "    ))"
   ]
  },
  {
   "cell_type": "code",
   "execution_count": 121,
   "metadata": {},
   "outputs": [],
   "source": [
    "class Dataset:\n",
    "    def __init__(self,x,y,max_len=max_len,vector_size=92,shuffle=True):\n",
    "        self.x = x\n",
    "        self.y = y\n",
    "        \n",
    "        self.shuffle = shuffle\n",
    "        self.max_len = max_len\n",
    "        self.vector_size = vector_size\n",
    "        \n",
    "    def __len__(self,):\n",
    "        return len(self.x)\n",
    "        \n",
    "    def _set_vect(self,args):\n",
    "        idx,sent = args\n",
    "        self.dummy[idx] = pad(sent) \n",
    "        return 1\n",
    "    \n",
    "    def _flow(self,):\n",
    "        br = len(self,) % self.batch_size\n",
    "        self.dummy = np.zeros((self.batch_size,self.max_len,self.vector_size))\n",
    "        with ThreadPoolExecutor(max_workers=int(self.batch_size*1.5)) as executer:\n",
    "            while True:\n",
    "                idx = np.random.permutation(len(self)) if self.shuffle else np.arange(0,len(self))\n",
    "                for batch in idx[:-br].reshape(-1,self.batch_size):\n",
    "#                     _ = list(executer.map(self._set_vect,enumerate(self.x[batch])))\n",
    "                    yield self.x[batch]\n",
    "    \n",
    "    def get_flow(self,batch_size):\n",
    "        self.batch_size = batch_size\n",
    "        return self._flow(),np.round(len(self)/batch_size)"
   ]
  },
  {
   "cell_type": "code",
   "execution_count": 122,
   "metadata": {},
   "outputs": [],
   "source": [
    "ds = Dataset(sentences,df.sentiment)"
   ]
  },
  {
   "cell_type": "code",
   "execution_count": 127,
   "metadata": {},
   "outputs": [],
   "source": [
    "fl,spe = ds.get_flow(32)"
   ]
  },
  {
   "cell_type": "code",
   "execution_count": 133,
   "metadata": {},
   "outputs": [
    {
     "data": {
      "text/plain": [
       "array([['one', 'of', 'the', ..., '<BLANK>', '<BLANK>', '<BLANK>'],\n",
       "       ['a', 'wonderful', 'little', ..., '<BLANK>', '<BLANK>', '<BLANK>'],\n",
       "       ['i', 'thought', 'this', ..., '<BLANK>', '<BLANK>', '<BLANK>'],\n",
       "       ...,\n",
       "       ['this', 'show', 'was', ..., '<BLANK>', '<BLANK>', '<BLANK>'],\n",
       "       ['encouraged', 'by', 'the', ..., '<BLANK>', '<BLANK>', '<BLANK>'],\n",
       "       ['if', 'you', 'like', ..., '<BLANK>', '<BLANK>', '<BLANK>']],\n",
       "      dtype='<U13')"
      ]
     },
     "execution_count": 133,
     "metadata": {},
     "output_type": "execute_result"
    }
   ],
   "source": [
    "[sent+(['<BLANK>']*(max_len-len(sent))) for sent in sentences[:10]]"
   ]
  },
  {
   "cell_type": "code",
   "execution_count": null,
   "metadata": {},
   "outputs": [],
   "source": []
  },
  {
   "cell_type": "code",
   "execution_count": null,
   "metadata": {},
   "outputs": [],
   "source": []
  },
  {
   "cell_type": "code",
   "execution_count": 54,
   "metadata": {},
   "outputs": [],
   "source": [
    "X,x,Y,y = train_test_split(feat,df.sentiment.values)"
   ]
  },
  {
   "cell_type": "code",
   "execution_count": 95,
   "metadata": {},
   "outputs": [],
   "source": [
    "in_tensor = Input(shape=(len(cvt.vocabulary_),))\n",
    "\n",
    "d1 = Dense(8,)(in_tensor)\n",
    "d1 = BatchNormalization()(d1)\n",
    "d1 = ReLU(6.)(d1)\n",
    "d1 = Dropout(0.3)(d1)\n",
    "\n",
    "out = Dense(1,)(d1)\n",
    "out = BatchNormalization()(out)\n",
    "out = Activation('sigmoid')(out)\n",
    "\n",
    "model = Model(in_tensor,out)"
   ]
  },
  {
   "cell_type": "code",
   "execution_count": 96,
   "metadata": {},
   "outputs": [
    {
     "name": "stdout",
     "output_type": "stream",
     "text": [
      "Model: \"model_5\"\n",
      "_________________________________________________________________\n",
      "Layer (type)                 Output Shape              Param #   \n",
      "=================================================================\n",
      "input_8 (InputLayer)         [(None, 220805)]          0         \n",
      "_________________________________________________________________\n",
      "dense_11 (Dense)             (None, 8)                 1766448   \n",
      "_________________________________________________________________\n",
      "batch_normalization_11 (Batc (None, 8)                 32        \n",
      "_________________________________________________________________\n",
      "re_lu_6 (ReLU)               (None, 8)                 0         \n",
      "_________________________________________________________________\n",
      "dropout_2 (Dropout)          (None, 8)                 0         \n",
      "_________________________________________________________________\n",
      "dense_12 (Dense)             (None, 1)                 9         \n",
      "_________________________________________________________________\n",
      "batch_normalization_12 (Batc (None, 1)                 4         \n",
      "_________________________________________________________________\n",
      "activation_5 (Activation)    (None, 1)                 0         \n",
      "=================================================================\n",
      "Total params: 1,766,493\n",
      "Trainable params: 1,766,475\n",
      "Non-trainable params: 18\n",
      "_________________________________________________________________\n"
     ]
    }
   ],
   "source": [
    "model.summary()"
   ]
  },
  {
   "cell_type": "code",
   "execution_count": 97,
   "metadata": {},
   "outputs": [],
   "source": [
    "loss = tf.keras.losses.BinaryCrossentropy()\n",
    "opt = tf.keras.optimizers.Adam()\n",
    "\n",
    "model.compile(loss=loss,optmizer=opt,metrics=['accuracy'])"
   ]
  },
  {
   "cell_type": "code",
   "execution_count": 98,
   "metadata": {},
   "outputs": [],
   "source": [
    "batch_size = 64\n",
    "\n",
    "train_flow = get_flow(X,Y,batch_size)\n",
    "test_flow = get_flow(x,y,batch_size)"
   ]
  },
  {
   "cell_type": "code",
   "execution_count": 99,
   "metadata": {},
   "outputs": [
    {
     "name": "stdout",
     "output_type": "stream",
     "text": [
      "Epoch 1/3\n",
      "586/586 [==============================] - 220s 375ms/step - loss: 0.4350 - accuracy: 0.8396 - val_loss: 0.3603 - val_accuracy: 0.8913\n",
      "Epoch 2/3\n",
      "586/586 [==============================] - 220s 375ms/step - loss: 0.3261 - accuracy: 0.8935 - val_loss: 0.3049 - val_accuracy: 0.8907\n",
      "Epoch 3/3\n",
      "586/586 [==============================] - 219s 374ms/step - loss: 0.2673 - accuracy: 0.9139 - val_loss: 0.2846 - val_accuracy: 0.8890\n"
     ]
    },
    {
     "data": {
      "text/plain": [
       "<tensorflow.python.keras.callbacks.History at 0x7f96501c9908>"
      ]
     },
     "execution_count": 99,
     "metadata": {},
     "output_type": "execute_result"
    }
   ],
   "source": [
    "model.fit_generator(\n",
    "    generator=train_flow,\n",
    "    steps_per_epoch=np.round(len(X)/batch_size),\n",
    "    validation_data=test_flow,\n",
    "    validation_steps=np.round(len(x)/batch_size),\n",
    "    epochs=3\n",
    ")"
   ]
  },
  {
   "cell_type": "code",
   "execution_count": null,
   "metadata": {},
   "outputs": [],
   "source": []
  },
  {
   "cell_type": "code",
   "execution_count": null,
   "metadata": {},
   "outputs": [],
   "source": []
  }
 ],
 "metadata": {
  "kernelspec": {
   "display_name": "Python 3",
   "language": "python",
   "name": "python3"
  },
  "language_info": {
   "codemirror_mode": {
    "name": "ipython",
    "version": 3
   },
   "file_extension": ".py",
   "mimetype": "text/x-python",
   "name": "python",
   "nbconvert_exporter": "python",
   "pygments_lexer": "ipython3",
   "version": "3.6.8"
  }
 },
 "nbformat": 4,
 "nbformat_minor": 4
}
